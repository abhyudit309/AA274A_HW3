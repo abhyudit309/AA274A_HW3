{
 "cells": [
  {
   "cell_type": "code",
   "execution_count": 1,
   "metadata": {},
   "outputs": [],
   "source": [
    "import numpy as np"
   ]
  },
  {
   "cell_type": "code",
   "execution_count": 2,
   "metadata": {},
   "outputs": [],
   "source": [
    "def corr(F, I):\n",
    "    k, l = F.shape  # dimensions of F\n",
    "    m, n = I.shape  # dimensions of I\n",
    "    G = np.zeros((m, n))  # Pre-allocating G\n",
    "\n",
    "    # Dimensions of padded matrix I_pad\n",
    "    m_pad = m + 2 * (k // 2)\n",
    "    n_pad = n + 2 * (l // 2)\n",
    "\n",
    "    # Setting it up\n",
    "    I_pad = np.zeros((m_pad, n_pad))\n",
    "    for i in range(m):\n",
    "        for j in range(n):\n",
    "            I_pad[(k//2) + i, (l//2) + j] = I[i, j]\n",
    "\n",
    "    f = np.reshape(F, k * l)  # f vector, as defined in part (ii)\n",
    "\n",
    "    for i in range(m):\n",
    "        for j in range(n):\n",
    "            tij = np.reshape(I_pad[i:i+k, j:j+l], k * l)  # tij, as defined in part (ii)\n",
    "            G[i, j] = np.dot(f, tij)\n",
    "\n",
    "    return G"
   ]
  },
  {
   "cell_type": "code",
   "execution_count": 15,
   "metadata": {},
   "outputs": [],
   "source": [
    "I = np.array([[7,4,1],[8,5,2],[9,6,3]])\n",
    "F = (1/9)*np.array([[1,1,1],[1,1,1],[1,1,1]])"
   ]
  },
  {
   "cell_type": "code",
   "execution_count": 17,
   "metadata": {},
   "outputs": [
    {
     "name": "stdout",
     "output_type": "stream",
     "text": [
      "[[2.66666667 3.         1.33333333]\n",
      " [4.33333333 5.         2.33333333]\n",
      " [3.11111111 3.66666667 1.77777778]]\n"
     ]
    }
   ],
   "source": [
    "G = corr(F, I)\n",
    "print(G)"
   ]
  },
  {
   "cell_type": "code",
   "execution_count": null,
   "metadata": {},
   "outputs": [],
   "source": []
  }
 ],
 "metadata": {
  "kernelspec": {
   "display_name": "Python 3",
   "language": "python",
   "name": "python3"
  },
  "language_info": {
   "codemirror_mode": {
    "name": "ipython",
    "version": 3
   },
   "file_extension": ".py",
   "mimetype": "text/x-python",
   "name": "python",
   "nbconvert_exporter": "python",
   "pygments_lexer": "ipython3",
   "version": "3.8.5"
  }
 },
 "nbformat": 4,
 "nbformat_minor": 4
}
